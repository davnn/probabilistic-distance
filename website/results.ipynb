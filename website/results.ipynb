{
 "cells": [
  {
   "cell_type": "code",
   "execution_count": null,
   "metadata": {},
   "outputs": [],
   "source": [
    "import pandas as pd\n",
    "import glob\n",
    "import os\n",
    "import shutil"
   ]
  },
  {
   "cell_type": "code",
   "execution_count": null,
   "metadata": {},
   "outputs": [],
   "source": [
    "base_path = ...\n",
    "root_path = \"build/images\"\n",
    "dest_path = ..."
   ]
  },
  {
   "cell_type": "code",
   "execution_count": null,
   "metadata": {},
   "outputs": [],
   "source": [
    "datasets = [os.path.basename(g) for g in glob.glob(f\"{root_path}/*\") if os.path.isdir(g)]"
   ]
  },
  {
   "cell_type": "code",
   "execution_count": null,
   "metadata": {},
   "outputs": [],
   "source": [
    "dfs = []\n",
    "for i, name in enumerate(datasets):\n",
    "    # create df\n",
    "    path = f\"{base_path}/{i}/results/probabilisticpatchcore/mvtec/{name}/results.csv\"\n",
    "    df = pd.read_csv(path, index_col=False)\n",
    "    df[\"dataset\"] = name\n",
    "    dfs.append(df)\n",
    "\n",
    "    # copy images\n",
    "    path_img = path = f\"{base_path}/{i}/results/probabilisticpatchcore/mvtec/{name}/images\"\n",
    "    shutil.copytree(path_img, f\"{dest_path}/{name}\")\n",
    "\n",
    "df = pd.concat(dfs)"
   ]
  },
  {
   "cell_type": "code",
   "execution_count": null,
   "metadata": {},
   "outputs": [],
   "source": [
    "for dataset in datasets:\n",
    "  path_normal = glob.glob(f\"build/images/{dataset}/normal/*.png\")\n",
    "  path_outlier = glob.glob(f\"build/images/{dataset}/outlier/*.png\")\n",
    "\n",
    "  text = f\"\"\"\n",
    "---\n",
    "title: A Probabilistic Transformation of Distance-Based Outliers\n",
    "author:\n",
    "  - David Muhr\n",
    "  - Michael Affenzeller\n",
    "  - Josef Küng\n",
    "date: 2023-07-11\n",
    "---\n",
    "\n",
    "[Back to the overview](/probabilistic-distance/)\n",
    "\n",
    "### {dataset.capitalize()} (normal)\\n\\n\"\"\"\n",
    "\n",
    "  for path in path_normal:\n",
    "      path = path[6:].replace('\\\\', '/')\n",
    "      text = text + f\"![]({path})\\n\"\n",
    "\n",
    "  text = text + f\"\\n### {dataset.capitalize()} (outlier)\\n\\n\"\n",
    "\n",
    "  for path in path_outlier:\n",
    "      path = path[6:].replace('\\\\', '/')\n",
    "      text = text + f\"![]({path})\\n\"\n",
    "\n",
    "  with open(f\"datasets/{dataset}.md\", \"w\", encoding=\"utf8\") as f:\n",
    "      f.write(text)"
   ]
  },
  {
   "cell_type": "code",
   "execution_count": null,
   "metadata": {},
   "outputs": [],
   "source": []
  }
 ],
 "metadata": {
  "kernelspec": {
   "display_name": "Python 3",
   "language": "python",
   "name": "python3"
  },
  "language_info": {
   "codemirror_mode": {
    "name": "ipython",
    "version": 3
   },
   "file_extension": ".py",
   "mimetype": "text/x-python",
   "name": "python",
   "nbconvert_exporter": "python",
   "pygments_lexer": "ipython3",
   "version": "3.9.16"
  },
  "orig_nbformat": 4
 },
 "nbformat": 4,
 "nbformat_minor": 2
}
